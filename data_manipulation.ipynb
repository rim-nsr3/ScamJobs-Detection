{
 "cells": [
  {
   "cell_type": "code",
   "execution_count": 1,
   "id": "555e6a7a",
   "metadata": {},
   "outputs": [
    {
     "name": "stdout",
     "output_type": "stream",
     "text": [
      "Requirement already satisfied: spacy in c:\\users\\rim\\newanaconda3\\lib\\site-packages (3.8.5)Note: you may need to restart the kernel to use updated packages.\n",
      "\n",
      "Requirement already satisfied: spacy-legacy<3.1.0,>=3.0.11 in c:\\users\\rim\\newanaconda3\\lib\\site-packages (from spacy) (3.0.12)\n",
      "Requirement already satisfied: spacy-loggers<2.0.0,>=1.0.0 in c:\\users\\rim\\newanaconda3\\lib\\site-packages (from spacy) (1.0.5)\n",
      "Requirement already satisfied: murmurhash<1.1.0,>=0.28.0 in c:\\users\\rim\\newanaconda3\\lib\\site-packages (from spacy) (1.0.12)\n",
      "Requirement already satisfied: cymem<2.1.0,>=2.0.2 in c:\\users\\rim\\newanaconda3\\lib\\site-packages (from spacy) (2.0.11)\n",
      "Requirement already satisfied: preshed<3.1.0,>=3.0.2 in c:\\users\\rim\\newanaconda3\\lib\\site-packages (from spacy) (3.0.9)\n",
      "Requirement already satisfied: thinc<8.4.0,>=8.3.4 in c:\\users\\rim\\newanaconda3\\lib\\site-packages (from spacy) (8.3.6)\n",
      "Requirement already satisfied: wasabi<1.2.0,>=0.9.1 in c:\\users\\rim\\newanaconda3\\lib\\site-packages (from spacy) (1.1.3)\n",
      "Requirement already satisfied: srsly<3.0.0,>=2.4.3 in c:\\users\\rim\\newanaconda3\\lib\\site-packages (from spacy) (2.5.1)\n",
      "Requirement already satisfied: catalogue<2.1.0,>=2.0.6 in c:\\users\\rim\\newanaconda3\\lib\\site-packages (from spacy) (2.0.10)\n",
      "Requirement already satisfied: weasel<0.5.0,>=0.1.0 in c:\\users\\rim\\newanaconda3\\lib\\site-packages (from spacy) (0.4.1)\n",
      "Requirement already satisfied: typer<1.0.0,>=0.3.0 in c:\\users\\rim\\newanaconda3\\lib\\site-packages (from spacy) (0.15.4)\n",
      "Requirement already satisfied: tqdm<5.0.0,>=4.38.0 in c:\\users\\rim\\newanaconda3\\lib\\site-packages (from spacy) (4.65.0)\n",
      "Requirement already satisfied: numpy>=1.19.0 in c:\\users\\rim\\newanaconda3\\lib\\site-packages (from spacy) (2.2.5)\n",
      "Requirement already satisfied: requests<3.0.0,>=2.13.0 in c:\\users\\rim\\newanaconda3\\lib\\site-packages (from spacy) (2.31.0)\n",
      "Requirement already satisfied: pydantic!=1.8,!=1.8.1,<3.0.0,>=1.7.4 in c:\\users\\rim\\newanaconda3\\lib\\site-packages (from spacy) (2.10.4)\n",
      "Requirement already satisfied: jinja2 in c:\\users\\rim\\newanaconda3\\lib\\site-packages (from spacy) (3.1.3)\n",
      "Requirement already satisfied: setuptools in c:\\users\\rim\\newanaconda3\\lib\\site-packages (from spacy) (68.2.2)\n",
      "Requirement already satisfied: packaging>=20.0 in c:\\users\\rim\\newanaconda3\\lib\\site-packages (from spacy) (24.2)\n",
      "Requirement already satisfied: langcodes<4.0.0,>=3.2.0 in c:\\users\\rim\\newanaconda3\\lib\\site-packages (from spacy) (3.5.0)\n",
      "Requirement already satisfied: language-data>=1.2 in c:\\users\\rim\\newanaconda3\\lib\\site-packages (from langcodes<4.0.0,>=3.2.0->spacy) (1.3.0)\n",
      "Requirement already satisfied: annotated-types>=0.6.0 in c:\\users\\rim\\newanaconda3\\lib\\site-packages (from pydantic!=1.8,!=1.8.1,<3.0.0,>=1.7.4->spacy) (0.7.0)\n",
      "Requirement already satisfied: pydantic-core==2.27.2 in c:\\users\\rim\\newanaconda3\\lib\\site-packages (from pydantic!=1.8,!=1.8.1,<3.0.0,>=1.7.4->spacy) (2.27.2)\n",
      "Requirement already satisfied: typing-extensions>=4.12.2 in c:\\users\\rim\\newanaconda3\\lib\\site-packages (from pydantic!=1.8,!=1.8.1,<3.0.0,>=1.7.4->spacy) (4.12.2)\n",
      "Requirement already satisfied: charset-normalizer<4,>=2 in c:\\users\\rim\\newanaconda3\\lib\\site-packages (from requests<3.0.0,>=2.13.0->spacy) (2.0.4)\n",
      "Requirement already satisfied: idna<4,>=2.5 in c:\\users\\rim\\newanaconda3\\lib\\site-packages (from requests<3.0.0,>=2.13.0->spacy) (3.4)\n",
      "Requirement already satisfied: urllib3<3,>=1.21.1 in c:\\users\\rim\\newanaconda3\\lib\\site-packages (from requests<3.0.0,>=2.13.0->spacy) (2.0.7)\n",
      "Requirement already satisfied: certifi>=2017.4.17 in c:\\users\\rim\\newanaconda3\\lib\\site-packages (from requests<3.0.0,>=2.13.0->spacy) (2024.6.2)\n",
      "Requirement already satisfied: blis<1.4.0,>=1.3.0 in c:\\users\\rim\\newanaconda3\\lib\\site-packages (from thinc<8.4.0,>=8.3.4->spacy) (1.3.0)\n",
      "Requirement already satisfied: confection<1.0.0,>=0.0.1 in c:\\users\\rim\\newanaconda3\\lib\\site-packages (from thinc<8.4.0,>=8.3.4->spacy) (0.1.5)\n",
      "Requirement already satisfied: colorama in c:\\users\\rim\\newanaconda3\\lib\\site-packages (from tqdm<5.0.0,>=4.38.0->spacy) (0.4.6)\n",
      "Requirement already satisfied: click<8.2,>=8.0.0 in c:\\users\\rim\\newanaconda3\\lib\\site-packages (from typer<1.0.0,>=0.3.0->spacy) (8.1.7)\n",
      "Requirement already satisfied: shellingham>=1.3.0 in c:\\users\\rim\\newanaconda3\\lib\\site-packages (from typer<1.0.0,>=0.3.0->spacy) (1.5.4)\n",
      "Requirement already satisfied: rich>=10.11.0 in c:\\users\\rim\\newanaconda3\\lib\\site-packages (from typer<1.0.0,>=0.3.0->spacy) (13.3.5)\n",
      "Requirement already satisfied: cloudpathlib<1.0.0,>=0.7.0 in c:\\users\\rim\\newanaconda3\\lib\\site-packages (from weasel<0.5.0,>=0.1.0->spacy) (0.21.0)\n",
      "Requirement already satisfied: smart-open<8.0.0,>=5.2.1 in c:\\users\\rim\\newanaconda3\\lib\\site-packages (from weasel<0.5.0,>=0.1.0->spacy) (5.2.1)\n",
      "Requirement already satisfied: MarkupSafe>=2.0 in c:\\users\\rim\\newanaconda3\\lib\\site-packages (from jinja2->spacy) (2.1.3)\n",
      "Requirement already satisfied: marisa-trie>=1.1.0 in c:\\users\\rim\\newanaconda3\\lib\\site-packages (from language-data>=1.2->langcodes<4.0.0,>=3.2.0->spacy) (1.2.1)\n",
      "Requirement already satisfied: markdown-it-py<3.0.0,>=2.2.0 in c:\\users\\rim\\newanaconda3\\lib\\site-packages (from rich>=10.11.0->typer<1.0.0,>=0.3.0->spacy) (2.2.0)\n",
      "Requirement already satisfied: pygments<3.0.0,>=2.13.0 in c:\\users\\rim\\newanaconda3\\lib\\site-packages (from rich>=10.11.0->typer<1.0.0,>=0.3.0->spacy) (2.15.1)\n",
      "Requirement already satisfied: mdurl~=0.1 in c:\\users\\rim\\newanaconda3\\lib\\site-packages (from markdown-it-py<3.0.0,>=2.2.0->rich>=10.11.0->typer<1.0.0,>=0.3.0->spacy) (0.1.0)\n",
      "Collecting en-core-web-sm==3.8.0\n",
      "  Downloading https://github.com/explosion/spacy-models/releases/download/en_core_web_sm-3.8.0/en_core_web_sm-3.8.0-py3-none-any.whl (12.8 MB)\n",
      "     ---------------------------------------- 0.0/12.8 MB ? eta -:--:--\n",
      "     ---------------------------------------- 0.0/12.8 MB ? eta -:--:--\n",
      "     --------------------------------------- 0.0/12.8 MB 217.9 kB/s eta 0:00:59\n",
      "     --------------------------------------- 0.0/12.8 MB 281.8 kB/s eta 0:00:46\n",
      "      -------------------------------------- 0.2/12.8 MB 952.6 kB/s eta 0:00:14\n",
      "     - -------------------------------------- 0.6/12.8 MB 2.7 MB/s eta 0:00:05\n",
      "     --- ------------------------------------ 1.0/12.8 MB 3.7 MB/s eta 0:00:04\n",
      "     ---- ----------------------------------- 1.5/12.8 MB 4.6 MB/s eta 0:00:03\n",
      "     ----- ---------------------------------- 1.8/12.8 MB 5.1 MB/s eta 0:00:03\n",
      "     ------- -------------------------------- 2.4/12.8 MB 5.9 MB/s eta 0:00:02\n",
      "     -------- ------------------------------- 2.8/12.8 MB 6.1 MB/s eta 0:00:02\n",
      "     ---------- ----------------------------- 3.2/12.8 MB 6.5 MB/s eta 0:00:02\n",
      "     ----------- ---------------------------- 3.5/12.8 MB 6.6 MB/s eta 0:00:02\n",
      "     ----------- ---------------------------- 3.7/12.8 MB 6.3 MB/s eta 0:00:02\n",
      "     ------------ --------------------------- 4.1/12.8 MB 6.5 MB/s eta 0:00:02\n",
      "     -------------- ------------------------- 4.5/12.8 MB 6.6 MB/s eta 0:00:02\n",
      "     --------------- ------------------------ 5.0/12.8 MB 6.9 MB/s eta 0:00:02\n",
      "     ---------------- ----------------------- 5.2/12.8 MB 6.8 MB/s eta 0:00:02\n",
      "     ----------------- ---------------------- 5.7/12.8 MB 6.9 MB/s eta 0:00:02\n",
      "     ------------------ --------------------- 6.0/12.8 MB 6.8 MB/s eta 0:00:01\n",
      "     -------------------- ------------------- 6.4/12.8 MB 6.9 MB/s eta 0:00:01\n",
      "     --------------------- ------------------ 6.8/12.8 MB 7.0 MB/s eta 0:00:01\n",
      "     ---------------------- ----------------- 7.2/12.8 MB 7.1 MB/s eta 0:00:01\n",
      "     ----------------------- ---------------- 7.5/12.8 MB 7.0 MB/s eta 0:00:01\n",
      "     ------------------------ --------------- 7.8/12.8 MB 7.1 MB/s eta 0:00:01\n",
      "     ------------------------- -------------- 8.2/12.8 MB 7.1 MB/s eta 0:00:01\n",
      "     -------------------------- ------------- 8.6/12.8 MB 7.1 MB/s eta 0:00:01\n",
      "     ---------------------------- ----------- 9.0/12.8 MB 7.2 MB/s eta 0:00:01\n",
      "     ----------------------------- ---------- 9.4/12.8 MB 7.3 MB/s eta 0:00:01\n",
      "     ------------------------------ --------- 9.8/12.8 MB 7.3 MB/s eta 0:00:01\n",
      "     ------------------------------- -------- 10.1/12.8 MB 7.3 MB/s eta 0:00:01\n",
      "     -------------------------------- ------- 10.5/12.8 MB 8.3 MB/s eta 0:00:01\n",
      "     --------------------------------- ------ 10.8/12.8 MB 8.1 MB/s eta 0:00:01\n",
      "     ---------------------------------- ----- 11.1/12.8 MB 8.1 MB/s eta 0:00:01\n",
      "     ----------------------------------- ---- 11.5/12.8 MB 8.1 MB/s eta 0:00:01\n",
      "     ------------------------------------- -- 12.0/12.8 MB 8.1 MB/s eta 0:00:01\n",
      "     ---------------------------------------  12.5/12.8 MB 8.0 MB/s eta 0:00:01\n",
      "     ---------------------------------------  12.8/12.8 MB 8.2 MB/s eta 0:00:01\n",
      "     ---------------------------------------- 12.8/12.8 MB 7.9 MB/s eta 0:00:00\n",
      "Installing collected packages: en-core-web-sm\n",
      "Successfully installed en-core-web-sm-3.8.0\n",
      "\u001b[38;5;2m✔ Download and installation successful\u001b[0m\n",
      "You can now load the package via spacy.load('en_core_web_sm')\n"
     ]
    }
   ],
   "source": [
    "%pip install spacy\n",
    "!python -m spacy download en_core_web_sm"
   ]
  },
  {
   "cell_type": "code",
   "execution_count": 1,
   "id": "d5a2dc87",
   "metadata": {},
   "outputs": [],
   "source": [
    "import pandas as pd\n",
    "import spacy\n",
    "nlp = spacy.load(\"en_core_web_sm\")"
   ]
  },
  {
   "cell_type": "code",
   "execution_count": 3,
   "id": "09557072",
   "metadata": {},
   "outputs": [],
   "source": [
    "df = pd.read_csv(\"tech_jobs_raw.csv\")\n",
    "df = df.dropna(subset=[\"title\", \"description\"])\n",
    "df[\"text\"] = df[\"title\"] + \" \" + df[\"description\"]"
   ]
  },
  {
   "cell_type": "code",
   "execution_count": 4,
   "id": "c249e6b2",
   "metadata": {},
   "outputs": [],
   "source": [
    "# Cleaning function\n",
    "def clean_spacy(text):\n",
    "    doc = nlp(text.lower())\n",
    "    return \" \".join([\n",
    "        token.lemma_ for token in doc\n",
    "        if not token.is_stop and token.is_alpha\n",
    "    ])\n",
    "\n",
    "# Apply cleaning\n",
    "df[\"clean_text\"] = df[\"text\"].apply(clean_spacy)"
   ]
  },
  {
   "cell_type": "code",
   "execution_count": 6,
   "id": "c5f5be47",
   "metadata": {},
   "outputs": [
    {
     "name": "stdout",
     "output_type": "stream",
     "text": [
      "Done! Cleaned data saved to tech_jobs_cleaned.csv\n"
     ]
    }
   ],
   "source": [
    "# Save cleaned file\n",
    "df.to_csv(\"tech_jobs_cleaned.csv\", index=False)\n",
    "print(\"Done! Cleaned data saved to tech_jobs_cleaned.csv\")"
   ]
  },
  {
   "cell_type": "code",
   "execution_count": 8,
   "id": "ef9d197b",
   "metadata": {},
   "outputs": [],
   "source": [
    "#We labeled the clean data maunually and saved it into a file called tech_jobs_labeled.csv\n",
    "df_labeled = pd.read_csv(\"tech_jobs_labeled.csv\")"
   ]
  },
  {
   "cell_type": "code",
   "execution_count": 12,
   "id": "8a0e6d35",
   "metadata": {},
   "outputs": [],
   "source": [
    "# scam keyword lists based on the description\n",
    "hard_flags = [\n",
    "    \"quick money\", \"get paid\", \"click here\", \"zelle\", \"venmo\",\n",
    "    \"no experience\", \"send resume\", \"easy job\", \"start today\", \"ssn\",\n",
    "    \"cash job\", \"flexible schedule\", \"personal assistant\", \"urgent hire\",\n",
    "    \"no background check\", \"hiring now\", \"apply fast\", \"bonus pay\", \"work today\",\n",
    "    \"daily payout\", \"text me\", \"hmu\", \"cash app\", \"bitcoin\"\n",
    "]\n",
    "\n",
    "soft_flags = [\n",
    "    \"fun work\", \"work from home\", \"startup\", \"bonus\", \"remote\",\n",
    "    \"side hustle\", \"freedom\", \"earn daily\", \"quick cash\", \"instant pay\",\n",
    "    \"just need\", \"willing to pay\", \"dm me\", \"pay out\", \"commission only\"\n",
    "]\n",
    "\n",
    "\n",
    "# suspicious score calculation\n",
    "def calc_suspicious_score(text):\n",
    "    text = str(text).lower()\n",
    "    score = 0\n",
    "    score += sum(text.count(kw) * 2 for kw in hard_flags)\n",
    "    score += sum(text.count(kw) for kw in soft_flags)\n",
    "    return score\n",
    "\n",
    "# vague flag calculation\n",
    "def is_vague(text):\n",
    "    text = str(text).lower()\n",
    "    word_count = len(text.split())\n",
    "\n",
    "    vague_indicators = [\n",
    "        \"need help\", \"looking for someone\", \"personal assistant\",\n",
    "        \"quick cash\", \"just need\", \"easy job\", \"should be reliable\",\n",
    "        \"make money\"\n",
    "    ]\n",
    "    strong_indicators = [\n",
    "        \"technician\", \"software\", \"engineer\", \"laboratory\",\n",
    "        \"install\", \"support\", \"analysis\", \"requirements\",\n",
    "        \"experience\", \"responsibilities\"\n",
    "    ]\n",
    "\n",
    "    has_vague_phrases = any(phrase in text for phrase in vague_indicators)\n",
    "    lacks_detail = not any(word in text for word in strong_indicators)\n",
    "\n",
    "    return int(word_count < 25 and (has_vague_phrases or lacks_detail))\n",
    "\n",
    "# Apply the functions to your dataframe\n",
    "df_labeled[\"suspicious_score\"] = df_labeled[\"clean_text\"].apply(calc_suspicious_score)\n",
    "df_labeled[\"is_vague\"] = df_labeled[\"text\"].apply(is_vague)"
   ]
  },
  {
   "cell_type": "code",
   "execution_count": 14,
   "id": "7de4a30f",
   "metadata": {},
   "outputs": [
    {
     "name": "stdout",
     "output_type": "stream",
     "text": [
      "File saved as tech_jobs_reduced.csv\n"
     ]
    }
   ],
   "source": [
    "# Select only the features you want\n",
    "df_reduced = df_labeled[[\n",
    "    \"clean_text\",       \n",
    "    \"suspicious_score\", \n",
    "    \"is_vague\",         \n",
    "    \"compensation\",    \n",
    "    \"is_scam\"           \n",
    "]]\n",
    "\n",
    "# Preview the final structure\n",
    "df_reduced.head()\n",
    "\n",
    "# Export to CSV\n",
    "df_reduced.to_csv(\"tech_jobs.csv\", index=False)\n",
    "print(\"File saved as tech_jobs_reduced.csv\")"
   ]
  }
 ],
 "metadata": {
  "kernelspec": {
   "display_name": "ScamJob-Detection",
   "language": "python",
   "name": "python3"
  },
  "language_info": {
   "codemirror_mode": {
    "name": "ipython",
    "version": 3
   },
   "file_extension": ".py",
   "mimetype": "text/x-python",
   "name": "python",
   "nbconvert_exporter": "python",
   "pygments_lexer": "ipython3",
   "version": "3.10.16"
  }
 },
 "nbformat": 4,
 "nbformat_minor": 5
}
